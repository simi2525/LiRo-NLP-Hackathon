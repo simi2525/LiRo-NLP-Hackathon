{
 "cells": [
  {
   "cell_type": "code",
   "execution_count": null,
   "metadata": {},
   "outputs": [],
   "source": [
    "from datasets import load_dataset\n",
    "\n",
    "dataset = load_dataset(\"dumitrescustefan/diacritic\") \n",
    "\n",
    "# what is the dataset?\n",
    "print(dataset) # will print: {'train': <datasets.iterable_dataset.IterableDataset object at 0x7f97281aca90>, 'validation': <datasets.iterable_dataset.IterableDataset object at 0x7f971bebe450>}"
   ]
  },
  {
   "cell_type": "code",
   "execution_count": null,
   "metadata": {},
   "outputs": [],
   "source": [
    "print(next(iter(dataset['validation'])))  # note the iterable, we're converting to iter and then calling next on the iter object"
   ]
  },
  {
   "cell_type": "code",
   "execution_count": null,
   "metadata": {},
   "outputs": [],
   "source": [
    "# let's have two datasets, one for each split\n",
    "train_dataset = load_dataset(\"dumitrescustefan/diacritic\", streaming=True, split=\"train\")\n",
    "valid_dataset = load_dataset(\"dumitrescustefan/diacritic\", streaming=True, split=\"validation\")\n",
    "\n",
    "# we're going to define the remove diacritics function\n",
    "DIAC_MAP = {'ț': 't', 'ș': 's', 'Ț': 'T', 'Ș': 'S', 'Ă': 'A', 'ă': 'a', 'Â': 'A', 'â': 'a', 'Î': 'I', 'î': 'i'}\n",
    "\n",
    "def remove_diacritics(dataset_entry):\n",
    "    for diac in DIAC_MAP:\n",
    "        dataset_entry['text'] = dataset_entry['text'].replace(diac, DIAC_MAP[diac])\n",
    "    return dataset_entry\n",
    "\n",
    "valid_no_diac_dataset = valid_dataset.map(remove_diacritics)\n",
    "\n",
    "valid_no_diac_iterable = iter(valid_no_diac_dataset)\n",
    "\n",
    "# let's print 5 lines from this processed dataset\n",
    "for _ in range(5):\n",
    "  entry = next(valid_no_diac_iterable)\n",
    "  print(entry['text'])  # these texts will have their diacritics removed\n"
   ]
  }
 ],
 "metadata": {
  "kernelspec": {
   "display_name": "Python 3.9.6 64-bit",
   "language": "python",
   "name": "python3"
  },
  "language_info": {
   "codemirror_mode": {
    "name": "ipython",
    "version": 3
   },
   "file_extension": ".py",
   "mimetype": "text/x-python",
   "name": "python",
   "nbconvert_exporter": "python",
   "pygments_lexer": "ipython3",
   "version": "3.9.6"
  },
  "orig_nbformat": 4,
  "vscode": {
   "interpreter": {
    "hash": "b0fa6594d8f4cbf19f97940f81e996739fb7646882a419484c72d19e05852a7e"
   }
  }
 },
 "nbformat": 4,
 "nbformat_minor": 2
}
